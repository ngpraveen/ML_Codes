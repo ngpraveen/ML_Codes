{
 "cells": [
  {
   "cell_type": "markdown",
   "metadata": {},
   "source": [
    "## Linear Regression\n",
    "A simple Linear Regression code using Gradient Descent algorithm. The following Least Square Error function is used as cost function.\n",
    "\\begin{equation*}\n",
    "J = \\frac{1}{2N} \\sum \\left(h(x_i) - y_i \\right)^2\n",
    "\\end{equation*}\n",
    "where,\n",
    "\\begin{equation*}\n",
    "h(x_i) = m \\times x_i + c\n",
    "\\end{equation*} \n",
    "\n",
    "is the hypothesis (predicted $y$ value for each $x$) \n",
    "and $N$ is the total number of datapoints."
   ]
  },
  {
   "cell_type": "code",
   "execution_count": 1,
   "metadata": {
    "collapsed": true
   },
   "outputs": [],
   "source": [
    "#import packages\n",
    "import numpy as np\n",
    "import matplotlib.pyplot as plt\n",
    "%matplotlib inline"
   ]
  },
  {
   "cell_type": "code",
   "execution_count": 2,
   "metadata": {
    "collapsed": false
   },
   "outputs": [],
   "source": [
    "#function to create data. \n",
    "# by default 50 scatter points, slope=2 \n",
    "#and intercept =1.0 randomness added \n",
    "\n",
    "def create_data(x,y, data_size=50, m=2.0, c=1.0):\n",
    "    x = np.arange(data_size)\n",
    "    \n",
    "    rand = []\n",
    "    for i in range(len(x)):\n",
    "        rand.append(20*(np.random.rand()-0.5))\n",
    "    rand=np.array(rand)\n",
    "    #print(rand)\n",
    "    y = m*x+c+rand\n",
    "    return x,y,m,c, data_size"
   ]
  },
  {
   "cell_type": "code",
   "execution_count": 3,
   "metadata": {
    "collapsed": false
   },
   "outputs": [],
   "source": [
    "# create data\n",
    "x = []\n",
    "y = []\n",
    "x,y, m_data, c_data, data_size = create_data(x,y)\n"
   ]
  },
  {
   "cell_type": "code",
   "execution_count": 4,
   "metadata": {
    "collapsed": false
   },
   "outputs": [
    {
     "data": {
      "text/plain": [
       "<matplotlib.text.Text at 0x10c420160>"
      ]
     },
     "execution_count": 4,
     "metadata": {},
     "output_type": "execute_result"
    },
    {
     "data": {
      "image/png": "[encoded data removed]",
      "text/plain": [
       "<matplotlib.figure.Figure at 0x1090f85c0>"
      ]
     },
     "metadata": {},
     "output_type": "display_data"
    }
   ],
   "source": [
    "# how does the data look?\n",
    "plt.scatter(x,y)\n",
    "plt.xlabel('x', fontsize=17)\n",
    "plt.ylabel('y', fontsize=17)"
   ]
  },
  {
   "cell_type": "code",
   "execution_count": 5,
   "metadata": {
    "collapsed": false
   },
   "outputs": [],
   "source": [
    "# the work!\n",
    "\n",
    "# we may quit when gradient descent converges (not used)\n",
    "precision = 0.01\n",
    "\n",
    "# maximum number of iterations and \n",
    "# learning rate \n",
    "max_iter = 5000\n",
    "rate =0.002\n",
    "\n",
    "# initial guesses for slope and intercept\n",
    "# with a least square cost function, this doesn't matter\n",
    "# it is guaranteed to reach the minimum\n",
    "m_reg = 1.5\n",
    "c_reg = 1.5\n",
    "\n",
    "# the cost function (least square error)\n",
    "cost = []\n",
    "for t in range(max_iter):\n",
    "    hypothetical = m_reg*x+c_reg\n",
    "    #print(type(y))\n",
    "    sum1 = np.sum(hypothetical-y)\n",
    "    sum2 = np.sum((hypothetical-y)*x)\n",
    "    c_temp = c_reg - rate*sum1/data_size\n",
    "    m_temp = m_reg - rate*sum2/data_size\n",
    "    m_reg = m_temp\n",
    "    c_reg = c_temp\n",
    "    cost.append((sum((hypothetical-y)**2 ))/(2*data_size))\n",
    "    #print(cost[-1])"
   ]
  },
  {
   "cell_type": "markdown",
   "metadata": {},
   "source": [
    "## Fitted values"
   ]
  },
  {
   "cell_type": "code",
   "execution_count": 6,
   "metadata": {
    "collapsed": false
   },
   "outputs": [
    {
     "name": "stdout",
     "output_type": "stream",
     "text": [
      "Intended and fitted slops:  2.0 2.00827030654\n",
      "Intended and fitted intercepts:  1.0 1.88860671484\n"
     ]
    }
   ],
   "source": [
    "print(\"Intended and fitted slops: \", m_data, m_reg)\n",
    "print(\"Intended and fitted intercepts: \", c_data, c_reg)"
   ]
  },
  {
   "cell_type": "markdown",
   "metadata": {},
   "source": [
    "**Note 1:** The actual slop and intercept may be different from the intended (input) values because we added noise to the data. As the sample size increases, the actual values will approach the intended values. Here we used rather a small dataset.\n",
    "\n",
    "**Note 2:** The *rate* and *max_iter* may need some fine-tuning for optimal performance, depending on the dataset."
   ]
  },
  {
   "cell_type": "code",
   "execution_count": 7,
   "metadata": {
    "collapsed": false
   },
   "outputs": [
    {
     "data": {
      "text/plain": [
       "<matplotlib.text.Text at 0x10c4f0400>"
      ]
     },
     "execution_count": 7,
     "metadata": {},
     "output_type": "execute_result"
    },
    {
     "data": {
      "image/png": "[encoded data removed]",
      "text/plain": [
       "<matplotlib.figure.Figure at 0x108708e48>"
      ]
     },
     "metadata": {},
     "output_type": "display_data"
    }
   ],
   "source": [
    "# let's plot it\n",
    "plt.scatter(x,y)\n",
    "plt.plot(x,hypothetical, 'r')\n",
    "plt.xlabel('x', fontsize=17)\n",
    "plt.ylabel('y', fontsize=17)\n",
    "plt.title('Linear Regression')"
   ]
  },
  {
   "cell_type": "code",
   "execution_count": 8,
   "metadata": {
    "collapsed": false
   },
   "outputs": [
    {
     "data": {
      "text/plain": [
       "<matplotlib.text.Text at 0x10c6386d8>"
      ]
     },
     "execution_count": 8,
     "metadata": {},
     "output_type": "execute_result"
    },
    {
     "data": {
      "image/png": "[encoded data removed]",
      "text/plain": [
       "<matplotlib.figure.Figure at 0x1090f8cc0>"
      ]
     },
     "metadata": {},
     "output_type": "display_data"
    }
   ],
   "source": [
    "plt.plot(cost[:100])\n",
    "plt.xlabel('Iterations', fontsize=17)\n",
    "plt.ylabel('Cost', fontsize=17)\n",
    "plt.title('Cost Function')"
   ]
  },
  {
   "cell_type": "markdown",
   "metadata": {},
   "source": [
    "### Summary\n",
    "\n",
    "This notebook creates a dataset of the form \n",
    "$y = m \\times x + c $\n",
    "and does a least-square fitting. "
   ]
  }
 ],
 "metadata": {
  "kernelspec": {
   "display_name": "Python 3",
   "language": "python",
   "name": "python3"
  },
  "language_info": {
   "codemirror_mode": {
    "name": "ipython",
    "version": 3
   },
   "file_extension": ".py",
   "mimetype": "text/x-python",
   "name": "python",
   "nbconvert_exporter": "python",
   "pygments_lexer": "ipython3",
   "version": "3.6.0"
  }
 },
 "nbformat": 4,
 "nbformat_minor": 2
}
